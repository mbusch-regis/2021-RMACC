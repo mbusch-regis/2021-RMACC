{
 "cells": [
  {
   "cell_type": "markdown",
   "id": "confused-hawaiian",
   "metadata": {},
   "source": [
    "# JupyterLab 3.0 and Debugging"
   ]
  },
  {
   "cell_type": "markdown",
   "id": "valid-worse",
   "metadata": {},
   "source": [
    "## Overview"
   ]
  },
  {
   "cell_type": "markdown",
   "id": "sought-cloud",
   "metadata": {
    "jupyter": {
     "source_hidden": true
    },
    "tags": []
   },
   "source": [
    "<img align=\"right\" style=\"padding-right:10px;\" src=\"figures/main-logo.svg\" width=400><br>\n",
    "* [Introduction](#Introduction)\n",
    "    * [Who am I (and why do you care)?](#Who-am-I-(and-why-do-you-care)?)\n",
    "    * [Jupyter / IPython Overview](#Jupyter-/-IPython-Overview)\n",
    "    * [Debugging the hard way](#Debugging-the-hard-way)\n",
    "* [Installing Jupyter Debugger (and other lies)](#Installing-Jupyter-Debugger-(and-other-lies))\n",
    "    * [Prequisites](#Prerequisites)\n",
    "        * [**Sidebar:** Conda and Mamba](#Sidebar:-Conda-and-Mamba)\n",
    "    * [Virtual environments](#Virtual-environments)\n",
    "        * [**Sidebar:** Jupyter Kernels](#Sidebar:-Jupyter-kernels)\n",
    "    * [Kernel installation ](#Kernel-installation)\n",
    "        * [Conda, virtual environment](#Conda,-virtual-environent)\n",
    "        * [Mamba, virtual environment](#Mamba,-virtual-environment)\n",
    "        * [Gotchas](#Gotchas)\n",
    "        * [Demo: Mamba, virtual environment](#Demo:-Mamba,-virtual-environment)\n",
    "* Demo: Using Jupyter debugger\n",
    "    * Selecting the xeus kernel\n",
    "    * **Showing line numbers**\n",
    "    * Setting breakpoints\n",
    "    * Running and inspecting variables\n",
    "* **Alternative:** Visual Studio Code"
   ]
  },
  {
   "cell_type": "markdown",
   "id": "altered-corpus",
   "metadata": {},
   "source": [
    " matplotlib-inline                  0.1.2  pyhd8ed1ab_2        conda-forge/noarch       Cached\n",
    "  mistune                            0.8.4  py39h3811e60_1003   conda-forge/linux-64     Cached\n",
    "  nbclassic                          0.2.8  pyhd8ed1ab_0        conda-forge/noarch       Cached\n",
    "  nbclient                           0.5.3  pyhd8ed1ab_0        conda-forge/noarch       Cached\n",
    "  nbconvert                          6.0.7  py39hf3d152e_3      conda-forge/linux-64     Cached\n",
    "  nbformat                           5.1.3  pyhd8ed1ab_0        conda-forge/noarch       Cached\n",
    "  ncurses                              6.2  h58526e2_4          conda-forge/linux-64     Cached\n",
    "  nest-asyncio                       1.5.1  pyhd8ed1ab_0        conda-forge/noarch       Cached\n",
    "  notebook                           6.4.0  pyha770c72_0        conda-forge/noarch       Cached\n",
    "  opens<img src=\"figures/main-logo.svg\" width=300><br>"
   ]
  },
  {
   "cell_type": "markdown",
   "id": "structured-accident",
   "metadata": {},
   "source": [
    "# Introduction"
   ]
  },
  {
   "cell_type": "markdown",
   "id": "compact-connecticut",
   "metadata": {},
   "source": [
    "## Who am I (and why do you care)?"
   ]
  },
  {
   "cell_type": "markdown",
   "id": "electronic-shade",
   "metadata": {},
   "source": [
    "* **Contact Info:**\n",
    "    * Mike Busch\n",
    "    * Regis University \n",
    "       * Assistant Professor - Data Science\n",
    "       * Undergraduate Data Science Director\n",
    "       * Data Science lab director\n",
    "    * mbusch@regis.edu\n",
    "<img align=\"right\" style=\"padding-right:10px;\" src=\"figures/symbiosdolphins.jpg\" width=200><br>    \n",
    "* **Background:**\n",
    "    * Computers since 1983\n",
    "        * Apple ]\\[+, 48K RAM \n",
    "    * Work\n",
    "        * Symbios Logic\n",
    "    <img align=\"right\" style=\"padding-right:10px;\" src=\"figures/rogue-wave-software.svg\" width=200><br>     \n",
    "        * Rogue Wave Software    \n",
    "        * McKesson medical software\n",
    "        * Regis University   \n",
    "    * Education\n",
    "        * Doctorate - CTU\n",
    "            * Research: Genome assembly using GPUs and Hadoop\n",
    "        * Masters - Regis\n",
    "        * Bachelors - Regis  \n",
    "    <img align=\"right\" style=\"padding-right:10px;\" src=\"figures/regis-university.jpg\" width=200>        \n",
    "    * Python - Intermediate\n",
    "        * Using since 2012\n",
    "* **Current Research**\n",
    "    * Computer vision and augmented reality of 3 dimensional objects\n",
    "        * Hardware:\n",
    "            * Microsoft Azure Kinect, HoloLens\n",
    "        * Software:\n",
    "            * OpenCV\n",
    "            * Open3D\n",
    "            * PyTorch\n",
    "            * Torch Points 3D"
   ]
  },
  {
   "cell_type": "markdown",
   "id": "false-dover",
   "metadata": {},
   "source": [
    "## Jupyter notebook vs JupyterLab"
   ]
  },
  {
   "cell_type": "markdown",
   "id": "beginning-coupon",
   "metadata": {},
   "source": [
    "Jupyter notebook is the \"original\" interface, deriving from the IPython command line, originally written by Fernando Perez and released in 2014. Each notebook, including the file tree, takes one browser tab.<br>\n",
    "\n",
    "\n",
    "<table style=\"font-size: 20px\">\n",
    "    <tr>\n",
    "        <th>Jupyter notebook</th><th>JupyterLab</th>\n",
    "    </tr>\n",
    "    <tr>\n",
    "        <td><img src=\"figures/jupyter-lorentz.png\"></td><td><img src=\"figures/interface_jupyterlab.png\"></td>\n",
    "    </tr>\n",
    "</table>\n",
    "\n",
    "JupyterLab allows us to open and arrange multiple documents, editors, viewers, etc., in one browser tab. "
   ]
  },
  {
   "cell_type": "markdown",
   "id": "numeric-affair",
   "metadata": {},
   "source": [
    "## Debugging the hard way"
   ]
  },
  {
   "cell_type": "code",
   "execution_count": 1,
   "id": "mobile-tunisia",
   "metadata": {
    "execution": {
     "iopub.execute_input": "2021-05-19T00:23:17.215119Z",
     "iopub.status.busy": "2021-05-19T00:23:17.214800Z",
     "iopub.status.idle": "2021-05-19T00:23:17.224050Z",
     "shell.execute_reply": "2021-05-19T00:23:17.223492Z",
     "shell.execute_reply.started": "2021-05-19T00:23:17.215039Z"
    },
    "tags": []
   },
   "outputs": [],
   "source": [
    "def sum_range(start, end):\n",
    "    return sum(range(start,end))"
   ]
  },
  {
   "cell_type": "code",
   "execution_count": 2,
   "id": "immune-fourth",
   "metadata": {
    "execution": {
     "iopub.execute_input": "2021-05-19T00:23:33.365328Z",
     "iopub.status.busy": "2021-05-19T00:23:33.365053Z",
     "iopub.status.idle": "2021-05-19T00:23:33.376187Z",
     "shell.execute_reply": "2021-05-19T00:23:33.375849Z",
     "shell.execute_reply.started": "2021-05-19T00:23:33.365299Z"
    },
    "tags": []
   },
   "outputs": [
    {
     "data": {
      "text/plain": [
       "15"
      ]
     },
     "execution_count": 2,
     "metadata": {},
     "output_type": "execute_result"
    }
   ],
   "source": [
    "sum_range(1,6)"
   ]
  },
  {
   "cell_type": "code",
   "execution_count": 2,
   "id": "closed-gibson",
   "metadata": {
    "execution": {
     "iopub.execute_input": "2021-05-19T00:25:04.348227Z",
     "iopub.status.busy": "2021-05-19T00:25:04.347970Z",
     "iopub.status.idle": "2021-05-19T00:25:04.352435Z",
     "shell.execute_reply": "2021-05-19T00:25:04.351768Z",
     "shell.execute_reply.started": "2021-05-19T00:25:04.348198Z"
    },
    "tags": []
   },
   "outputs": [],
   "source": [
    "def sum_range_wrong(start, end):\n",
    "    print(f'start={start}  end={end}')\n",
    "    the_range = list(range(start,end))\n",
    "    print(f'the_range={the_range}')\n",
    "    for i in the_range:\n",
    "        the_sum = 0\n",
    "        the_sum += i\n",
    "        print(f'the_sum={the_sum}')\n",
    "    return the_sum\n",
    "    "
   ]
  },
  {
   "cell_type": "code",
   "execution_count": 3,
   "id": "internal-cradle",
   "metadata": {
    "execution": {
     "iopub.execute_input": "2021-05-19T00:25:05.977676Z",
     "iopub.status.busy": "2021-05-19T00:25:05.977387Z",
     "iopub.status.idle": "2021-05-19T00:25:05.982776Z",
     "shell.execute_reply": "2021-05-19T00:25:05.982158Z",
     "shell.execute_reply.started": "2021-05-19T00:25:05.977648Z"
    },
    "tags": []
   },
   "outputs": [
    {
     "name": "stdout",
     "output_type": "stream",
     "text": [
      "start=1  end=6\n",
      "the_range=[1, 2, 3, 4, 5]\n",
      "the_sum=1\n",
      "the_sum=2\n",
      "the_sum=3\n",
      "the_sum=4\n",
      "the_sum=5\n"
     ]
    },
    {
     "data": {
      "text/plain": [
       "5"
      ]
     },
     "execution_count": 3,
     "metadata": {},
     "output_type": "execute_result"
    }
   ],
   "source": [
    "sum_range_wrong(1,6)"
   ]
  },
  {
   "cell_type": "code",
   "execution_count": null,
   "id": "happy-april",
   "metadata": {},
   "outputs": [],
   "source": []
  },
  {
   "cell_type": "code",
   "execution_count": null,
   "id": "latin-blair",
   "metadata": {},
   "outputs": [],
   "source": []
  },
  {
   "cell_type": "code",
   "execution_count": null,
   "id": "excited-stick",
   "metadata": {},
   "outputs": [],
   "source": []
  },
  {
   "cell_type": "markdown",
   "id": "exposed-assumption",
   "metadata": {
    "execution": {
     "iopub.execute_input": "2021-05-13T21:27:16.118915Z",
     "iopub.status.busy": "2021-05-13T21:27:16.118589Z",
     "iopub.status.idle": "2021-05-13T21:27:16.122707Z",
     "shell.execute_reply": "2021-05-13T21:27:16.121894Z",
     "shell.execute_reply.started": "2021-05-13T21:27:16.118834Z"
    }
   },
   "source": [
    "### Sidebar: Package managers - Conda and Mamba"
   ]
  },
  {
   "cell_type": "markdown",
   "id": "fixed-architect",
   "metadata": {},
   "source": [
    "<img align=\"left\" src=\"figures/python-logo.png\" width=\"150\"><br>\n",
    "Python can be downloaded and installed from [python.org](https://www.python.org/). This \"plain vanilla\" version installs all the standard distribution libraries. **In the past**, this installer had some complications on Windows. Additionally, many of the libraries that are useful to Data Science were difficult to install, due to version conflicts.<br>\n",
    "\n",
    "<img align=\"right\" src=\"figures/Anaconda_Logo.png\" width=\"300\"><br>\n",
    "The **Anaconda** distribution of Python from [Anaconda.com](https://www.anaconda.com/) solves all of those problems. They implemented a Windows installer that understood user-level pathing **and** solved the versioning problems. Anaconda Python comes with all the popular Data Science and scientific libraries installed.<br>\n",
    "\n",
    "One of the most important reasons to install Anaconda is the built-in package manager, named **Conda**. Conda can install libraries as well as help keep them up to date. It can also create virtual environments (discussed below). Conda's disadvantage is that it can be slow while resolving versions and dependencies.\n",
    "\n",
    "<img align=\"left\" src=\"figures/mamba-logo.png\" width=\"150\"><br>\n",
    "Enter [Mamba](https://github.com/mamba-org/mamba), a C++ reimplementation of Conda. Mamba can do virtually everything that Conda can do, and do it much faster. I *have* run into an incompatibility or two in the past, but that was likely user error more than a Mamba problem. **My advice is to try Mamba first and fall back to Conda if necessary**."
   ]
  },
  {
   "cell_type": "markdown",
   "id": "humanitarian-order",
   "metadata": {},
   "source": [
    "### Sidebar: Jupyter kernels"
   ]
  },
  {
   "cell_type": "markdown",
   "id": "egyptian-aurora",
   "metadata": {},
   "source": [
    "From the [Jupyter documentation](https://jupyter.readthedocs.io/en/latest/projects/kernels.html):\n",
    "\n",
    ">Kernels are programming language specific processes that run independently and interact with the Jupyter Applications and their user interfaces. IPython is the reference Jupyter kernel, providing a powerful environment for interactive computing in Python.\n",
    ">\n",
    ">**IPython** - interactive computing in Python. Documentation | Repo\n",
    ">\n",
    ">**ipywidgets** - interactive widgets for Python in the Jupyter Notebook. Documentation | Repo\n",
    ">\n",
    ">**ipyparallel** - lightweight parallel computing in Python offering seamless notebook integration. Documentation | Repo\n",
    "\n",
    "The Jupyter Wiki on GitHub lists **almost 200** [Jupyter kernels](https://github.com/jupyter/jupyter/wiki/Jupyter-kernels) available for installation, including some compiled languages like C++, shell scripting like Bash and zsh, etc."
   ]
  },
  {
   "cell_type": "markdown",
   "id": "natural-marina",
   "metadata": {},
   "source": [
    "# Installing Jupyter lab debugger (and other lies)"
   ]
  },
  {
   "cell_type": "markdown",
   "id": "criminal-shield",
   "metadata": {},
   "source": [
    "The debugger is a standard part of Jupyter lab 3.0+. The version can be checked from the Help -> About JupyterLab menu option. This means you don't have to \"install\" the dubugger! \n",
    "<img align=\"right\" style=\"padding-right:10px;\" src=\"figures/xeus-python.svg\" width=400><br>\n",
    "\"But!\" you exclaim, \"If that's the case, why don't I see the dubugger as soon as I install/upgrade JupyterLab?\"\n",
    "\n",
    "I'm glad you asked.\n",
    "\n",
    "The \"standard\" Python interpreter (CPython) doesn't have debugger support built in, so we have to install an interpreter that has it. \n",
    "\n",
    "\n",
    "The [xeus-python](https://xeus-python.readthedocs.io/en/latest/) interpreter is the first general-purpose Python interpreter to implement JupyterLab's debugging API. "
   ]
  },
  {
   "cell_type": "markdown",
   "id": "organic-banking",
   "metadata": {},
   "source": [
    "## Virtual environments and Gotchas"
   ]
  },
  {
   "cell_type": "markdown",
   "id": "utility-forest",
   "metadata": {},
   "source": [
    "Much has been written in the last few years about creating and using virtual environments and several different libraries exist to help create and manage them, including **Conda/Mamba**. A virtual environment is like an isolated Python installation that can be activated and deactivated at will. \n",
    "\n",
    "Virtually every article and tutorial online recommends and demonstrates creating a virtual environment as a first step to avoid version conflicts, so we won't spend any more time on the definition here. \n",
    "\n",
    "An important **gotcha** to keep in mind when creating virtual environments is that they only have in them what you put in them. If your initial create statement only has the Python interpreter, then the virtual environment will only have the Python interpreter and basic libraries. If your project needs 3rd party libraries (like Pandas, Numpy, Jupyter,matplotlib, etc.), then **you will have to install them.**"
   ]
  },
  {
   "cell_type": "markdown",
   "id": "comic-benefit",
   "metadata": {},
   "source": [
    "## Prerequisites"
   ]
  },
  {
   "cell_type": "markdown",
   "id": "considered-ticket",
   "metadata": {},
   "source": [
    "1. JupyterLab version greater than 3.0\n",
    "2. Xeus-python kernel\n",
    "\n",
    "Optional: new virtual environment"
   ]
  },
  {
   "cell_type": "markdown",
   "id": "modified-supply",
   "metadata": {},
   "source": [
    "## Kernel installation"
   ]
  },
  {
   "cell_type": "markdown",
   "id": "behavioral-watts",
   "metadata": {},
   "source": [
    "Generally, kernel installation is as easy as a `pip install xyz` or `conda install xyz`. As noted above, it is often wise to install kernels into their own virtual environment. "
   ]
  },
  {
   "cell_type": "markdown",
   "id": "extended-chapter",
   "metadata": {},
   "source": [
    "### Conda, virtual environment"
   ]
  },
  {
   "cell_type": "markdown",
   "id": "stuffed-institution",
   "metadata": {},
   "source": [
    "This example comes from the [JupyterLab documentation](https://jupyterlab.readthedocs.io/en/stable/user/debugger.html).\n",
    "\n",
    "* **conda create**\n",
    "    * It creates a virtual environment named **jupyterlab-debugger**\n",
    "    * Says to use the \"conda forge\" community-driven repositories\n",
    "    * Install JupyterLab > v3.0 and the xeus-python kernel\n",
    "* **conda activate**\n",
    "    * Switches to the new virtual environment\n",
    "\n",
    "```\n",
    "conda create -n jupyterlab-debugger -c conda-forge jupyterlab=3 xeus-python\n",
    "conda activate jupyterlab-debugger\n",
    "```\n",
    "\n",
    "`conda deactivate` will return to the default environment, if necessary. "
   ]
  },
  {
   "cell_type": "markdown",
   "id": "veterinary-rider",
   "metadata": {},
   "source": [
    "### Mamba, virtual environment"
   ]
  },
  {
   "cell_type": "markdown",
   "id": "champion-helmet",
   "metadata": {},
   "source": [
    "Mamba will do the environment create and library installations, but `activate` is still done through conda:\n",
    "\n",
    "\n",
    "```\n",
    "mamba create -n jupyterlab-debugger -c conda-forge jupyterlab=3 xeus-python\n",
    "conda activate jupyterlab-debugger\n",
    "```"
   ]
  },
  {
   "cell_type": "markdown",
   "id": "acquired-performance",
   "metadata": {},
   "source": [
    "### Deleting virtual environments"
   ]
  },
  {
   "cell_type": "markdown",
   "id": "moving-maintenance",
   "metadata": {},
   "source": [
    "According to the [Conda Cheatsheet](https://docs.conda.io/projects/conda/en/4.6.0/_downloads/52a95608c49671267e40c689e0bc00ca/conda-cheatsheet.pdf), environments and everything in them can be deleted with the command: \n",
    "\n",
    "`conda env remove --name env-name`\n"
   ]
  },
  {
   "cell_type": "code",
   "execution_count": null,
   "id": "revised-elizabeth",
   "metadata": {},
   "outputs": [],
   "source": []
  },
  {
   "cell_type": "markdown",
   "id": "technical-lending",
   "metadata": {},
   "source": [
    "### Demo: Mamba, virtual environment"
   ]
  },
  {
   "cell_type": "markdown",
   "id": "olive-ebony",
   "metadata": {},
   "source": []
  },
  {
   "cell_type": "markdown",
   "id": "distributed-charity",
   "metadata": {},
   "source": [
    "# Demo: Using Jupyter debugger"
   ]
  },
  {
   "cell_type": "markdown",
   "id": "surrounded-cooking",
   "metadata": {},
   "source": [
    "<div class=\"alert alert-block alert-danger\">\n",
    "<b>Important::</b> Remember to activate the new environment and start JupyterLab from within it. \n",
    "</div>"
   ]
  },
  {
   "cell_type": "markdown",
   "id": "eligible-budapest",
   "metadata": {},
   "source": [
    "<img src=\"figures/choose-kernel.png\" width=\"600\"><br>\n",
    "Click this **upper, right corner**.  "
   ]
  },
  {
   "cell_type": "markdown",
   "id": "bulgarian-australian",
   "metadata": {},
   "source": [
    "## Selecting the xeus kernel"
   ]
  },
  {
   "cell_type": "markdown",
   "id": "rapid-banana",
   "metadata": {},
   "source": [
    "<img src=\"figures/kernel-dropdown.png\" width=\"600\">"
   ]
  },
  {
   "cell_type": "markdown",
   "id": "incorporated-honey",
   "metadata": {},
   "source": [
    "## Showing line numbers"
   ]
  },
  {
   "cell_type": "markdown",
   "id": "worst-oxide",
   "metadata": {},
   "source": [
    " \\<shift\\>-L in **command mode.**"
   ]
  },
  {
   "cell_type": "markdown",
   "id": "tender-slave",
   "metadata": {},
   "source": [
    "## Setting breakpoints"
   ]
  },
  {
   "cell_type": "code",
   "execution_count": 1,
   "id": "finite-forest",
   "metadata": {
    "execution": {
     "iopub.execute_input": "2021-05-19T00:35:37.724628Z",
     "iopub.status.busy": "2021-05-19T00:35:37.724537Z",
     "iopub.status.idle": "2021-05-19T00:35:37.750598Z",
     "shell.execute_reply": "2021-05-19T00:35:37.750522Z",
     "shell.execute_reply.started": "2021-05-19T00:35:37.724599Z"
    },
    "tags": []
   },
   "outputs": [],
   "source": [
    "def sum_range_wrong_2(start, end):\n",
    "    the_range = list(range(start,end))\n",
    "    for i in the_range:\n",
    "        the_sum = 0\n",
    "        the_sum += i\n",
    "    return the_sum\n",
    "    "
   ]
  },
  {
   "cell_type": "code",
   "execution_count": null,
   "id": "global-architect",
   "metadata": {},
   "outputs": [],
   "source": []
  },
  {
   "cell_type": "markdown",
   "id": "secret-mattress",
   "metadata": {},
   "source": [
    "## Running and inspecting variables"
   ]
  },
  {
   "cell_type": "code",
   "execution_count": 2,
   "id": "portable-filling",
   "metadata": {
    "execution": {
     "iopub.execute_input": "2021-05-19T00:35:43.475729Z",
     "iopub.status.busy": "2021-05-19T00:35:43.475649Z",
     "iopub.status.idle": "2021-05-19T00:38:28.909038Z",
     "shell.execute_reply": "2021-05-19T00:38:28.908980Z",
     "shell.execute_reply.started": "2021-05-19T00:35:43.475701Z"
    },
    "tags": []
   },
   "outputs": [
    {
     "data": {
      "text/plain": [
       "5"
      ]
     },
     "execution_count": 2,
     "metadata": {},
     "output_type": "execute_result"
    }
   ],
   "source": [
    "sum_range_wrong_2(1,6)"
   ]
  },
  {
   "cell_type": "markdown",
   "id": "polish-learning",
   "metadata": {},
   "source": [
    "# **Alternative:** Visual Studio Code"
   ]
  },
  {
   "cell_type": "code",
   "execution_count": 1,
   "id": "widespread-folks",
   "metadata": {
    "execution": {
     "iopub.execute_input": "2021-05-19T16:03:33.604319Z",
     "iopub.status.busy": "2021-05-19T16:03:33.604020Z",
     "iopub.status.idle": "2021-05-19T16:03:33.617179Z",
     "shell.execute_reply": "2021-05-19T16:03:33.616716Z",
     "shell.execute_reply.started": "2021-05-19T16:03:33.604244Z"
    },
    "tags": []
   },
   "outputs": [
    {
     "data": {
      "text/plain": [
       "5"
      ]
     },
     "execution_count": 1,
     "metadata": {},
     "output_type": "execute_result"
    }
   ],
   "source": [
    "the_range = list(range(1,6))\n",
    "for i in the_range:\n",
    "    the_sum = 0\n",
    "    the_sum += i\n",
    "    \n",
    "the_sum"
   ]
  },
  {
   "cell_type": "code",
   "execution_count": null,
   "id": "adult-minnesota",
   "metadata": {},
   "outputs": [],
   "source": []
  },
  {
   "cell_type": "code",
   "execution_count": null,
   "id": "blank-night",
   "metadata": {},
   "outputs": [],
   "source": []
  }
 ],
 "metadata": {
  "kernelspec": {
   "display_name": "Python 3.8.8 64-bit ('pcloud': conda)",
   "language": "python",
   "name": "python388jvsc74a57bd087f6620ae55e023aa78d8dc266cbee4b007ba55a54cb548b69bb6758aabaf160"
  },
  "language_info": {
   "codemirror_mode": {
    "name": "ipython",
    "version": 3
   },
   "file_extension": ".py",
   "mimetype": "text/x-python",
   "name": "python",
   "nbconvert_exporter": "python",
   "pygments_lexer": "ipython3",
   "version": "3.8.8"
  },
  "metadata": {
   "interpreter": {
    "hash": "87f6620ae55e023aa78d8dc266cbee4b007ba55a54cb548b69bb6758aabaf160"
   }
  },
  "toc-autonumbering": false,
  "toc-showcode": false,
  "toc-showmarkdowntxt": false,
  "toc-showtags": false
 },
 "nbformat": 4,
 "nbformat_minor": 5
}
